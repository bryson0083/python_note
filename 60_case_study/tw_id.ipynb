{
 "metadata": {
  "language_info": {
   "codemirror_mode": {
    "name": "ipython",
    "version": 3
   },
   "file_extension": ".py",
   "mimetype": "text/x-python",
   "name": "python",
   "nbconvert_exporter": "python",
   "pygments_lexer": "ipython3",
   "version": "3.8.5-final"
  },
  "orig_nbformat": 2,
  "kernelspec": {
   "name": "python3",
   "display_name": "Python 3.8.5 64-bit (conda)",
   "metadata": {
    "interpreter": {
     "hash": "ecf5722fdaf1897a315d257d89d94520bfcaa453217d5becf09b39e73618b0de"
    }
   }
  }
 },
 "nbformat": 4,
 "nbformat_minor": 2,
 "cells": [
  {
   "cell_type": "code",
   "execution_count": 5,
   "metadata": {},
   "outputs": [],
   "source": [
    "import re"
   ]
  },
  {
   "cell_type": "code",
   "execution_count": 2,
   "metadata": {},
   "outputs": [],
   "source": [
    "idchk = \"0123456789ABCDEFGHJKLMNPQRSTUVXYWZIO\""
   ]
  },
  {
   "cell_type": "code",
   "execution_count": 7,
   "metadata": {},
   "outputs": [],
   "source": [
    "# idchk.find(\"E\")"
   ]
  },
  {
   "cell_type": "code",
   "execution_count": null,
   "metadata": {},
   "outputs": [],
   "source": [
    "pattern = '^[A-Z]{1}(1|2)\\\\d{8}$'\n"
   ]
  },
  {
   "cell_type": "code",
   "execution_count": 1,
   "metadata": {},
   "outputs": [],
   "source": [
    "def cal_id_check_code(id_number):\n",
    "    \"\"\" 國民身分證、新式居留證，檢查碼驗證 \"\"\"\n",
    "\n",
    "    is_valid = False\n",
    "    idchk = \"0123456789ABCDEFGHJKLMNPQRSTUVXYWZIO\"\n",
    "    const_list = [1,9,8,7,6,5,4,3,2,1]\n",
    "\n",
    "    p1 = idchk.find(id_number[0])\n",
    "    id_list = list(str(p1)+id_number[1:-1])\n",
    "\n",
    "    weighted_list = [(int(a) * b) % 10 for a, b in zip(id_list, const_list)]\n",
    "    chk_code = 10 - sum(weighted_list, 0) % 10\n",
    "    if chk_code == int(id_number[-1:]):\n",
    "        is_valid = True\n",
    "\n",
    "    return is_valid"
   ]
  },
  {
   "cell_type": "code",
   "execution_count": 2,
   "metadata": {},
   "outputs": [],
   "source": [
    "def cal_id_check_code_for_old_resident_cert(id_number):\n",
    "    \"\"\" 舊式居留證Resident Certificate，檢查碼驗證 \"\"\"\n",
    "\n",
    "    is_valid = False\n",
    "    idchk = \"0123456789ABCDEFGHJKLMNPQRSTUVXYWZIO\"\n",
    "    const_list = [1,9,8,7,6,5,4,3,2,1]\n",
    "\n",
    "    p1 = idchk.find(id_number[0])\n",
    "    p2 = str(idchk.find(id_number[1]))[-1:]\n",
    "    id_list = list(str(p1) + p2 + id_number[2:-1])\n",
    "\n",
    "    weighted_list = [(int(a) * b) % 10 for a, b in zip(id_list, const_list)]\n",
    "    chk_code = 10 - sum(weighted_list, 0) % 10\n",
    "    if chk_code == int(id_number[-1:]):\n",
    "        is_valid = True\n",
    "\n",
    "    return is_valid"
   ]
  },
  {
   "cell_type": "code",
   "execution_count": 22,
   "metadata": {},
   "outputs": [],
   "source": [
    "def tw_id_check(id_number):\n",
    "    \"\"\" 身分證、居留證驗證 \"\"\"\n",
    "\n",
    "    is_valid = False\n",
    "    id_number = id_number.upper()\n",
    "\n",
    "    # 身分證&居留證(新式2021起)\n",
    "    id_pattern = '^[A-Z]{1}[1-2|8-9]{1}[0-9]{8}$'\n",
    "    if re.match(id_pattern, id_number):\n",
    "        if id_number[1] in [\"1\", \"2\"]:\n",
    "            print(\"國民身分證\")\n",
    "        else:\n",
    "            print(\"新式居留證\")\n",
    "\n",
    "        # 檢查碼驗證\n",
    "        is_valid = cal_id_check_code(id_number)\n",
    "\n",
    "    # 居留證(舊式2021前)\n",
    "    old_pattern = '^[A-Z]{1}[A-D]{1}[0-9]{8}$'\n",
    "    if re.match(old_pattern, id_number):\n",
    "        print(\"舊式居留證\")\n",
    "\n",
    "        # 檢查碼驗證\n",
    "        is_valid = cal_id_check_code_for_old_resident_cert(id_number)\n",
    "\n",
    "    return is_valid\n"
   ]
  },
  {
   "cell_type": "code",
   "execution_count": 23,
   "metadata": {},
   "outputs": [
    {
     "output_type": "stream",
     "name": "stdout",
     "text": [
      "Sss\n國民身分證\n"
     ]
    },
    {
     "output_type": "execute_result",
     "data": {
      "text/plain": [
       "True"
      ]
     },
     "metadata": {},
     "execution_count": 23
    }
   ],
   "source": [
    "# tw_id_check(\"AC01234567\")\n",
    "tw_id_check(\"E123215808\")"
   ]
  },
  {
   "cell_type": "code",
   "execution_count": 37,
   "metadata": {},
   "outputs": [],
   "source": [
    "def checkID(id_number):\n",
    "    \"\"\" 身分證驗證 \"\"\"\n",
    "\n",
    "    is_valid = False\n",
    "    idchk = \"0123456789ABCDEFGHJKLMNPQRSTUVXYWZIO\"\n",
    "    id_number = id_number.upper()\n",
    "    const_list = [1,9,8,7,6,5,4,3,2,1]  \n",
    "\n",
    "    # 身分證&居留證(新式2021起)\n",
    "    native_pattern = '^[A-Z]{1}(1-2|8-9)\\\\d{8}$'\n",
    "    p1 = idchk.find(id_number[0])\n",
    "    id_list = list(str(p1)+id_number[1:-1])\n",
    "    if re.match(native_pattern, id_number):\n",
    "        if id_number[2] in [1, 2]:\n",
    "            print(\"國民身分證\")\n",
    "        else:\n",
    "            print(\"新式居留證\")\n",
    "        \n",
    "        weighted_list = [(int(a) * b) % 10 for a, b in zip(id_list, const_list)]\n",
    "        chk_code = 10 - sum(weighted_list, 0) % 10\n",
    "        if chk_code == int(id_number[-1:]):\n",
    "            is_valid = True\n",
    "\n",
    "    # 居留證(舊式2021前)\n",
    "    foreigner_pattern = '^[A-Z]{1}[A-D]{1}[0-9]{8}$'\n",
    "    p1 = idchk.find(id_number[0])\n",
    "    p2 = str(idchk.find(id_number[1]))[-1:]\n",
    "    id_list = list(str(p1) + p2 + id_number[2:-1])\n",
    "    print(id_list)\n",
    "    if re.match(foreigner_pattern, id_number):\n",
    "        weighted_list = [(int(a) * b) % 10 for a, b in zip(id_list, const_list)]\n",
    "        chk_code = 10 - sum(weighted_list, 0) % 10\n",
    "        if chk_code == int(id_number[-1:]):\n",
    "            is_valid = True\n",
    "\n",
    "    return is_valid\n",
    "\n"
   ]
  },
  {
   "cell_type": "code",
   "execution_count": 38,
   "metadata": {},
   "outputs": [
    {
     "output_type": "stream",
     "name": "stdout",
     "text": [
      "['1', '0', '2', '0', '1', '2', '3', '4', '5', '6']\n"
     ]
    },
    {
     "output_type": "execute_result",
     "data": {
      "text/plain": [
       "True"
      ]
     },
     "metadata": {},
     "execution_count": 38
    }
   ],
   "source": [
    "checkID(\"AC01234567\")"
   ]
  },
  {
   "cell_type": "code",
   "execution_count": 33,
   "metadata": {},
   "outputs": [
    {
     "output_type": "execute_result",
     "data": {
      "text/plain": [
       "['A', '1', '2', '3', '4', '5', '6', '7', '8', '9']"
      ]
     },
     "metadata": {},
     "execution_count": 33
    }
   ],
   "source": [
    "list(\"A123456789\")"
   ]
  },
  {
   "cell_type": "code",
   "execution_count": 23,
   "metadata": {},
   "outputs": [],
   "source": [
    "a = [1,4,1,2,3,2,1,5,8,0]\n",
    "b = [1,9,8,7,6,5,4,3,2,1]"
   ]
  },
  {
   "cell_type": "code",
   "execution_count": 28,
   "metadata": {},
   "outputs": [],
   "source": [
    "bs = [(a * b) % 10 for a, b in zip(a, b)]"
   ]
  },
  {
   "cell_type": "code",
   "execution_count": 30,
   "metadata": {},
   "outputs": [
    {
     "output_type": "execute_result",
     "data": {
      "text/plain": [
       "2"
      ]
     },
     "metadata": {},
     "execution_count": 30
    }
   ],
   "source": [
    "sum(bs, 0) % 10"
   ]
  },
  {
   "cell_type": "code",
   "execution_count": null,
   "metadata": {},
   "outputs": [],
   "source": []
  }
 ]
}