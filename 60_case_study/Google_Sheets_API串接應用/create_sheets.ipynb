{
 "metadata": {
  "language_info": {
   "codemirror_mode": {
    "name": "ipython",
    "version": 3
   },
   "file_extension": ".py",
   "mimetype": "text/x-python",
   "name": "python",
   "nbconvert_exporter": "python",
   "pygments_lexer": "ipython3",
   "version": "3.8.5"
  },
  "orig_nbformat": 4,
  "kernelspec": {
   "name": "python3",
   "display_name": "Python 3.8.5 64-bit (conda)"
  },
  "interpreter": {
   "hash": "ecf5722fdaf1897a315d257d89d94520bfcaa453217d5becf09b39e73618b0de"
  }
 },
 "nbformat": 4,
 "nbformat_minor": 2,
 "cells": [
  {
   "cell_type": "code",
   "execution_count": 2,
   "metadata": {},
   "outputs": [],
   "source": [
    "import pygsheets"
   ]
  },
  {
   "cell_type": "code",
   "execution_count": 3,
   "metadata": {},
   "outputs": [],
   "source": [
    "creds_file = \"your_creds_file.json\""
   ]
  },
  {
   "cell_type": "code",
   "execution_count": 25,
   "metadata": {},
   "outputs": [],
   "source": [
    "gc = pygsheets.authorize(service_file=creds_file) # This will create a link to authorize"
   ]
  },
  {
   "cell_type": "code",
   "execution_count": 10,
   "metadata": {},
   "outputs": [],
   "source": [
    "sht = gc.open_by_key(\n",
    "'1ukJjuYIt3hYpPZ8Logu6cio3n_12pI9P-wLu0ICSy4s'\n",
    ")"
   ]
  },
  {
   "cell_type": "code",
   "execution_count": 11,
   "metadata": {},
   "outputs": [
    {
     "output_type": "stream",
     "name": "stdout",
     "text": [
      "[<Worksheet '清單' index:0>, <Worksheet 'test' index:1>]\n"
     ]
    }
   ],
   "source": [
    "wks_list = sht.worksheets()\n",
    "print(wks_list)"
   ]
  },
  {
   "cell_type": "code",
   "execution_count": 30,
   "metadata": {},
   "outputs": [],
   "source": [
    "# create a spreadsheet in a folder (by id)\n",
    "# sht2 = gc.create(\"new sheet\", folder_name=\"my worksheets\")"
   ]
  },
  {
   "cell_type": "code",
   "execution_count": 31,
   "metadata": {},
   "outputs": [],
   "source": [
    "# sh = gc.open(\"new_sheet3\")"
   ]
  },
  {
   "cell_type": "code",
   "execution_count": 33,
   "metadata": {},
   "outputs": [],
   "source": [
    "def folder_id_dict(client):\n",
    "    folders = {}\n",
    "    meta_list = client.drive.list()\n",
    "    # print(meta_list)\n",
    "    for file_meta in meta_list:\n",
    "        if file_meta['mimeType'] == 'application/vnd.google-apps.spreadsheet':\n",
    "            folders[file_meta['name']] = file_meta['id']\n",
    "    return folders\n",
    "\n",
    "#your use:\n",
    "names = folder_id_dict(gc)\n",
    "# names"
   ]
  },
  {
   "cell_type": "code",
   "execution_count": null,
   "metadata": {},
   "outputs": [],
   "source": []
  }
 ]
}