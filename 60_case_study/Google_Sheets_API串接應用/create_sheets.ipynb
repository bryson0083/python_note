{
 "metadata": {
  "language_info": {
   "codemirror_mode": {
    "name": "ipython",
    "version": 3
   },
   "file_extension": ".py",
   "mimetype": "text/x-python",
   "name": "python",
   "nbconvert_exporter": "python",
   "pygments_lexer": "ipython3",
   "version": "3.8.5"
  },
  "orig_nbformat": 4,
  "kernelspec": {
   "name": "python3",
   "display_name": "Python 3.8.5 64-bit ('base': conda)"
  },
  "interpreter": {
   "hash": "ecf5722fdaf1897a315d257d89d94520bfcaa453217d5becf09b39e73618b0de"
  }
 },
 "nbformat": 4,
 "nbformat_minor": 2,
 "cells": [
  {
   "cell_type": "code",
   "execution_count": 3,
   "metadata": {},
   "outputs": [],
   "source": [
    "import pygsheets"
   ]
  },
  {
   "cell_type": "code",
   "execution_count": 20,
   "metadata": {},
   "outputs": [],
   "source": [
    "creds_file = \"your_creds_file.json\""
   ]
  },
  {
   "cell_type": "code",
   "execution_count": 21,
   "metadata": {},
   "outputs": [],
   "source": [
    "gc = pygsheets.authorize(service_file=creds_file) # This will create a link to authorize"
   ]
  },
  {
   "cell_type": "code",
   "execution_count": 22,
   "metadata": {},
   "outputs": [],
   "source": [
    "sht = gc.open_by_key(\n",
    "'13WE2lrmO7Z5S0fRPquRy-ZhXlGfEP0JaL_g3Bxm2sms'\n",
    ")"
   ]
  },
  {
   "cell_type": "code",
   "execution_count": 23,
   "metadata": {},
   "outputs": [
    {
     "output_type": "stream",
     "name": "stdout",
     "text": [
      "[<Worksheet '工作表1' index:0>]\n"
     ]
    }
   ],
   "source": [
    "wks_list = sht.worksheets()\n",
    "print(wks_list)"
   ]
  },
  {
   "cell_type": "code",
   "execution_count": 24,
   "metadata": {},
   "outputs": [],
   "source": [
    "# create a spreadsheet in a folder (by id)\n",
    "sht2 = gc.create(\"new sheet\", folder_name=\"my_worksheets\")"
   ]
  },
  {
   "cell_type": "code",
   "execution_count": 31,
   "metadata": {},
   "outputs": [],
   "source": [
    "# sh = gc.open(\"new_sheet3\")"
   ]
  },
  {
   "cell_type": "code",
   "execution_count": 26,
   "metadata": {},
   "outputs": [],
   "source": [
    "# 授權測試\n",
    "# https://pygsheets.readthedocs.io/en/stable/spreadsheet.html\n",
    "\n",
    "sht2.share('user@gmail.com', role='commenter', type='user', emailMessage='Here is the spreadsheet we talked about!')"
   ]
  },
  {
   "cell_type": "code",
   "execution_count": 25,
   "metadata": {},
   "outputs": [
    {
     "output_type": "stream",
     "name": "stdout",
     "text": [
      "[{'kind': 'drive#file', 'id': '1OtaN4x9CtGXv1myxpRt2s9snNm0M6q4olgaiX9Q6dQM', 'name': 'new sheet', 'mimeType': 'application/vnd.google-apps.spreadsheet'}, {'kind': 'drive#file', 'id': '1fsP2Qh9vbrRtStVMimkO8JpCe0zqNjDh', 'name': 'my_worksheets', 'mimeType': 'application/vnd.google-apps.folder'}, {'kind': 'drive#file', 'id': '13WE2lrmO7Z5S0fRPquRy-ZhXlGfEP0JaL_g3Bxm2sms', 'name': 'ws01', 'mimeType': 'application/vnd.google-apps.spreadsheet'}]\n"
     ]
    },
    {
     "output_type": "execute_result",
     "data": {
      "text/plain": [
       "{'new sheet': '1OtaN4x9CtGXv1myxpRt2s9snNm0M6q4olgaiX9Q6dQM',\n",
       " 'ws01': '13WE2lrmO7Z5S0fRPquRy-ZhXlGfEP0JaL_g3Bxm2sms'}"
      ]
     },
     "metadata": {},
     "execution_count": 25
    }
   ],
   "source": [
    "# https://stackoverflow.com/questions/55914179/how-do-you-create-a-new-sheet-in-a-specific-folder-directory-using-pygsheets-v2\n",
    "def folder_id_dict(client):\n",
    "    folders = {}\n",
    "    meta_list = client.drive.list()\n",
    "    print(meta_list)\n",
    "    for file_meta in meta_list:\n",
    "        if file_meta['mimeType'] == 'application/vnd.google-apps.spreadsheet':\n",
    "            folders[file_meta['name']] = file_meta['id']\n",
    "    return folders\n",
    "\n",
    "#your use:\n",
    "names = folder_id_dict(gc)\n",
    "names"
   ]
  }
 ]
}