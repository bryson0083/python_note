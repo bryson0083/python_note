{
 "metadata": {
  "language_info": {
   "codemirror_mode": {
    "name": "ipython",
    "version": 3
   },
   "file_extension": ".py",
   "mimetype": "text/x-python",
   "name": "python",
   "nbconvert_exporter": "python",
   "pygments_lexer": "ipython3",
   "version": "3.8.5"
  },
  "orig_nbformat": 4,
  "kernelspec": {
   "name": "python3",
   "display_name": "Python 3.8.5 64-bit ('base': conda)"
  },
  "interpreter": {
   "hash": "ecf5722fdaf1897a315d257d89d94520bfcaa453217d5becf09b39e73618b0de"
  }
 },
 "nbformat": 4,
 "nbformat_minor": 2,
 "cells": [
  {
   "cell_type": "markdown",
   "source": [
    "# Create MS Access MDB file  \r\n",
    "* [How do you create a mdb database file in Python?](https://stackoverflow.com/questions/3094537/how-do-you-create-a-mdb-database-file-in-python)"
   ],
   "metadata": {}
  },
  {
   "cell_type": "code",
   "execution_count": null,
   "source": [
    "!pip install comtypes"
   ],
   "outputs": [],
   "metadata": {}
  },
  {
   "cell_type": "code",
   "execution_count": 5,
   "source": [
    "from comtypes.client import CreateObject\r\n",
    "\r\n",
    "access = CreateObject('Access.Application')\r\n",
    "\r\n",
    "from comtypes.gen import Access\r\n",
    "\r\n",
    "DBEngine = access.DBEngine\r\n",
    "db = DBEngine.CreateDatabase('test.mdb', Access.DB_LANG_GENERAL)\r\n",
    "# For me, test.mdb was created in my My Documents folder when I ran the script \r\n",
    "\r\n",
    "db.BeginTrans()\r\n",
    "\r\n",
    "db.Execute(\"CREATE TABLE test (ID Text, numapples Integer)\")\r\n",
    "db.Execute(\"INSERT INTO test VALUES ('ABC', 3)\")\r\n",
    "\r\n",
    "db.CommitTrans()\r\n",
    "db.Close()"
   ],
   "outputs": [
    {
     "output_type": "execute_result",
     "data": {
      "text/plain": [
       "0"
      ]
     },
     "metadata": {},
     "execution_count": 5
    }
   ],
   "metadata": {}
  },
  {
   "cell_type": "code",
   "execution_count": null,
   "source": [],
   "outputs": [],
   "metadata": {}
  }
 ]
}