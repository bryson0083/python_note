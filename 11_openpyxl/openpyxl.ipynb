{
 "metadata": {
  "language_info": {
   "codemirror_mode": {
    "name": "ipython",
    "version": 3
   },
   "file_extension": ".py",
   "mimetype": "text/x-python",
   "name": "python",
   "nbconvert_exporter": "python",
   "pygments_lexer": "ipython3",
   "version": "3.8.5-final"
  },
  "orig_nbformat": 2,
  "kernelspec": {
   "name": "python3",
   "display_name": "Python 3",
   "language": "python"
  }
 },
 "nbformat": 4,
 "nbformat_minor": 2,
 "cells": [
  {
   "source": [
    "# OpenPyXl Note  \n",
    "### 參考資料  \n",
    "* [活用openpyxl套件將爬取的資料寫入Excel檔案](https://www.learncodewithmike.com/2020/08/python-write-to-an-excel-file-using-openpyxl-module.html)  \n",
    "* [A Guide to Excel Spreadsheets in Python With openpyxl](https://realpython.com/openpyxl-excel-spreadsheets-python/)  \n",
    "* [Python styles.Font方法代碼示例](https://vimsky.com/zh-tw/examples/detail/python-method-openpyxl.styles.Font.html)  \n",
    "* [Working with styles](https://openpyxl.readthedocs.io/en/stable/styles.html)  \n",
    "* [Inserting a table with openpyxl](https://stackoverflow.com/questions/35074473/inserting-a-table-with-openpyxl)  \n",
    "\n"
   ],
   "cell_type": "markdown",
   "metadata": {}
  },
  {
   "cell_type": "code",
   "execution_count": 5,
   "metadata": {},
   "outputs": [],
   "source": [
    "import openpyxl\n",
    "from openpyxl.styles import Font"
   ]
  },
  {
   "source": [
    "# Hello World 範例"
   ],
   "cell_type": "markdown",
   "metadata": {}
  },
  {
   "cell_type": "code",
   "execution_count": 16,
   "metadata": {},
   "outputs": [],
   "source": [
    "# 建立workbook物件\n",
    "wb = openpyxl.Workbook()"
   ]
  },
  {
   "cell_type": "code",
   "execution_count": 17,
   "metadata": {},
   "outputs": [],
   "source": [
    "# 建立新sheet\n",
    "sheet = wb.create_sheet(\"TEST工作表\", 0)"
   ]
  },
  {
   "cell_type": "code",
   "execution_count": 18,
   "metadata": {},
   "outputs": [],
   "source": [
    "titles = (\"Hello World中文字字字字字字字字字字\", \"表1 ○年○月○○客運公司新竹縣公車轉乘第一段票免費補貼金額申請表\")\n",
    "sheet.append(titles)"
   ]
  },
  {
   "cell_type": "code",
   "execution_count": 19,
   "metadata": {},
   "outputs": [],
   "source": [
    "# 指定cell字體顏色\n",
    "sheet.cell(row=1, column=1).font = Font(name='標楷體', color='FF0000')"
   ]
  },
  {
   "cell_type": "code",
   "execution_count": null,
   "metadata": {},
   "outputs": [],
   "source": []
  },
  {
   "cell_type": "code",
   "execution_count": 20,
   "metadata": {},
   "outputs": [],
   "source": [
    "# 存檔\n",
    "wb.save(\"openpyxl_test.xlsx\")"
   ]
  },
  {
   "source": [
    "# 讀取現有EXCEL"
   ],
   "cell_type": "markdown",
   "metadata": {}
  },
  {
   "cell_type": "code",
   "execution_count": 10,
   "metadata": {},
   "outputs": [],
   "source": [
    "from openpyxl import load_workbook"
   ]
  },
  {
   "cell_type": "code",
   "execution_count": 39,
   "metadata": {},
   "outputs": [],
   "source": [
    "# 載入檔案\n",
    "wb = load_workbook('report_template_1.xlsx')"
   ]
  },
  {
   "cell_type": "code",
   "execution_count": 40,
   "metadata": {},
   "outputs": [
    {
     "output_type": "execute_result",
     "data": {
      "text/plain": [
       "['工作表1']"
      ]
     },
     "metadata": {},
     "execution_count": 40
    }
   ],
   "source": [
    "# 列出所有sheet name\n",
    "wb.sheetnames"
   ]
  },
  {
   "cell_type": "code",
   "execution_count": 41,
   "metadata": {},
   "outputs": [],
   "source": [
    "# 讀取指定名稱sheet\n",
    "ws = wb['工作表1']\n",
    "\n",
    "# 透過index讀取sheet\n",
    "# ws = wb.worksheets[1]"
   ]
  },
  {
   "cell_type": "code",
   "execution_count": 44,
   "metadata": {},
   "outputs": [],
   "source": [
    "ws.insert_rows(8)  # 在第一行插入一行\n",
    "ws.cell(8, 1).value = '20210120'  # cell填入值\n",
    "ws.append(['20210121', 111, 222, 333, 666, 1, 666])  # 插入一筆row"
   ]
  },
  {
   "cell_type": "code",
   "execution_count": 47,
   "metadata": {},
   "outputs": [],
   "source": []
  },
  {
   "cell_type": "code",
   "execution_count": 48,
   "metadata": {},
   "outputs": [],
   "source": [
    "wb.save(\"openpyxl_output.xlsx\")"
   ]
  },
  {
   "source": [
    "# 加入表格"
   ],
   "cell_type": "markdown",
   "metadata": {}
  },
  {
   "cell_type": "code",
   "execution_count": 22,
   "metadata": {},
   "outputs": [],
   "source": [
    "from openpyxl import Workbook\n",
    "from openpyxl.worksheet.table import Table, TableStyleInfo\n",
    "\n",
    "wb = Workbook()\n",
    "ws = wb.active\n",
    "\n",
    "data = [\n",
    "    ['Apples', 10000, 5000, 8000, 6000],\n",
    "    ['Pears',   2000, 3000, 4000, 5000],\n",
    "    ['Bananas', 6000, 6000, 6500, 6000],\n",
    "    ['Oranges',  500,  300,  200,  700],\n",
    "]\n",
    "\n",
    "# add column headings. NB. these must be strings\n",
    "ws.append([\"Fruit\", \"2011\", \"2012\", \"2013\", \"2014\"])\n",
    "for row in data:\n",
    "    ws.append(row)\n",
    "\n",
    "tab = Table(displayName=\"Table1\", ref=\"A1:E5\")\n",
    "\n",
    "# Add a default style with striped rows and banded columns\n",
    "style = TableStyleInfo(name=\"TableStyleMedium9\", showFirstColumn=False,\n",
    "                       showLastColumn=False, showRowStripes=True, showColumnStripes=True)\n",
    "tab.tableStyleInfo = style\n",
    "\n",
    "'''\n",
    "Table must be added using ws.add_table() method to avoid duplicate names.\n",
    "Using this method ensures table name is unque through out defined names and all other table name. \n",
    "'''\n",
    "ws.add_table(tab)\n",
    "wb.save(\"table.xlsx\")"
   ]
  },
  {
   "cell_type": "code",
   "execution_count": 1,
   "metadata": {},
   "outputs": [],
   "source": [
    "from openpyxl import Workbook\n",
    "from openpyxl.styles import Border, Side, Font, Alignment\n",
    "\n",
    "border = Border(left=Side(border_style='thin', color='000000'),\n",
    "                right=Side(border_style='thin', color='000000'),\n",
    "                top=Side(border_style='thin', color='000000'),\n",
    "                bottom=Side(border_style='thin', color='000000'))\n",
    "thin_border = Border(left=Side(style='thin'), \n",
    "                     right=Side(style='thin'), \n",
    "                     top=Side(style='thin'), \n",
    "                     bottom=Side(style='thin'))\n"
   ]
  },
  {
   "cell_type": "code",
   "execution_count": 2,
   "metadata": {},
   "outputs": [],
   "source": [
    "import pandas as pd\n",
    "\n",
    "data = {\n",
    "    \"Product Name\": [\"Product 1\", \"Product 2\"],\n",
    "    \"Sales Month 1\": [10, 20],\n",
    "    \"Sales Month 2\": [5, 35],\n",
    "}\n",
    "df = pd.DataFrame(data)"
   ]
  },
  {
   "cell_type": "code",
   "execution_count": 25,
   "metadata": {},
   "outputs": [],
   "source": [
    "from openpyxl.utils.dataframe import dataframe_to_rows\n",
    "\n",
    "workbook = Workbook()\n",
    "sheet = workbook.active"
   ]
  },
  {
   "cell_type": "code",
   "execution_count": 26,
   "metadata": {},
   "outputs": [],
   "source": [
    "for row in dataframe_to_rows(df, index=False, header=True):\n",
    "    sheet.append(row)\n",
    "\n",
    "# rows = sheet.iter_rows(\"A1:C3\")\n",
    "rows = sheet[\"A1:C3\"]\n",
    "for row in rows:\n",
    "    for cell in row:\n",
    "        cell.border = border\n",
    "\n",
    "# workbook.save(\"pandas.xlsx\")"
   ]
  },
  {
   "source": [
    "[【部分解决】openpyxl的excel设置列宽自适应+设置行高](https://www.crifan.com/openpyxl_excel_set_auto_adjust_column_width_set_line_height/)  \n"
   ],
   "cell_type": "markdown",
   "metadata": {}
  },
  {
   "cell_type": "code",
   "execution_count": 27,
   "metadata": {},
   "outputs": [
    {
     "output_type": "stream",
     "name": "stdout",
     "text": [
      "col:A, len:12\ncol:B, len:13\ncol:C, len:13\n"
     ]
    }
   ],
   "source": [
    "# 自動調整欄寬\n",
    "dims = {}\n",
    "for row in sheet.rows:\n",
    "    for cell in row:\n",
    "        if cell.value:\n",
    "            dims[cell.column_letter] = max((dims.get(cell.column_letter, 0), len(str(cell.value))))   \n",
    "for col, value in dims.items():\n",
    "    print(f\"col:{col}, len:{value}\")\n",
    "    sheet.column_dimensions[col].width = value+2"
   ]
  },
  {
   "cell_type": "code",
   "execution_count": 28,
   "metadata": {},
   "outputs": [],
   "source": [
    "workbook.save(\"pandas.xlsx\")"
   ]
  },
  {
   "cell_type": "code",
   "execution_count": 29,
   "metadata": {},
   "outputs": [],
   "source": [
    "workbook.close()"
   ]
  },
  {
   "cell_type": "code",
   "execution_count": null,
   "metadata": {},
   "outputs": [],
   "source": []
  }
 ]
}