{
 "metadata": {
  "language_info": {
   "codemirror_mode": {
    "name": "ipython",
    "version": 3
   },
   "file_extension": ".py",
   "mimetype": "text/x-python",
   "name": "python",
   "nbconvert_exporter": "python",
   "pygments_lexer": "ipython3",
   "version": "3.8.5-final"
  },
  "orig_nbformat": 2,
  "kernelspec": {
   "name": "python3",
   "display_name": "Python 3",
   "language": "python"
  }
 },
 "nbformat": 4,
 "nbformat_minor": 2,
 "cells": [
  {
   "cell_type": "code",
   "execution_count": 10,
   "metadata": {},
   "outputs": [],
   "source": [
    "import pandas as pd\n",
    "from openpyxl import Workbook\n",
    "from openpyxl.styles import Border, Side, Font, Alignment\n",
    "from openpyxl.utils.dataframe import dataframe_to_rows"
   ]
  },
  {
   "cell_type": "code",
   "execution_count": 11,
   "metadata": {},
   "outputs": [],
   "source": [
    "# 表格資料title\n",
    "data = {\n",
    "    \"Product \\nName\": [\"Product \\n1\", \"Product 2\"],\n",
    "    \"Sales \\nMonth \\n1\": [10, 20],\n",
    "    \"Sales \\nMonth \\n2\": [5, 35],\n",
    "}\n",
    "df = pd.DataFrame(data)"
   ]
  },
  {
   "cell_type": "code",
   "execution_count": 21,
   "metadata": {},
   "outputs": [],
   "source": [
    "wb = Workbook()\n",
    "ws = wb.active"
   ]
  },
  {
   "cell_type": "code",
   "execution_count": 32,
   "metadata": {},
   "outputs": [],
   "source": [
    "ws.insert_rows(1)  # 在第一行插入一行\n",
    "ws.merge_cells('A1:C1')  # 欄位\n",
    "ws[\"A1\"] = '表1 ○年○月○○客運公司新竹縣公車轉乘第一段票免費補貼金額申請表'\n",
    "ws[\"A1\"].font = Font(name='標楷體', color='000000', size=14, bold=True)"
   ]
  },
  {
   "cell_type": "code",
   "execution_count": 33,
   "metadata": {},
   "outputs": [],
   "source": [
    "for row in dataframe_to_rows(df, index=False, header=True):\n",
    "    ws.append(row)\n",
    "\n",
    "ws['A1'].alignment = Alignment(wrapText=True, horizontal='center')\n",
    "# ws['A1'].alignment = Alignment(wrapText=True)\n",
    "# rows = sheet[\"A1:C3\"]\n",
    "# for row in rows:\n",
    "#     for cell in row:\n",
    "#         cell.border = border"
   ]
  },
  {
   "cell_type": "code",
   "execution_count": 34,
   "metadata": {},
   "outputs": [],
   "source": [
    "wb.save(\"report_01_output.xlsx\")"
   ]
  },
  {
   "cell_type": "code",
   "execution_count": null,
   "metadata": {},
   "outputs": [],
   "source": []
  }
 ]
}