{
 "metadata": {
  "language_info": {
   "codemirror_mode": {
    "name": "ipython",
    "version": 3
   },
   "file_extension": ".py",
   "mimetype": "text/x-python",
   "name": "python",
   "nbconvert_exporter": "python",
   "pygments_lexer": "ipython3",
   "version": "3.8.5-final"
  },
  "orig_nbformat": 2,
  "kernelspec": {
   "name": "python3",
   "display_name": "Python 3",
   "language": "python"
  }
 },
 "nbformat": 4,
 "nbformat_minor": 2,
 "cells": [
  {
   "cell_type": "code",
   "execution_count": 16,
   "metadata": {},
   "outputs": [],
   "source": [
    "import pandas as pd\n",
    "from openpyxl import Workbook\n",
    "from openpyxl.styles import Border, Side, Font, Alignment\n",
    "from openpyxl.utils.dataframe import dataframe_to_rows"
   ]
  },
  {
   "source": [
    "# 測試資料"
   ],
   "cell_type": "markdown",
   "metadata": {}
  },
  {
   "cell_type": "code",
   "execution_count": 17,
   "metadata": {},
   "outputs": [
    {
     "output_type": "execute_result",
     "data": {
      "text/plain": [
       "  route_id route_desc  num_of_people  origin_amt  act_amt  subsidy_amt  \\\n",
       "0     0001        路線1            100        1000      600          400   \n",
       "1     0002        路線2            100        1000      600          400   \n",
       "2     0003        路線3            100        1000      600          400   \n",
       "\n",
       "   avg_subsidy_amt_by_people  \n",
       "0                          4  \n",
       "1                          4  \n",
       "2                          4  "
      ],
      "text/html": "<div>\n<style scoped>\n    .dataframe tbody tr th:only-of-type {\n        vertical-align: middle;\n    }\n\n    .dataframe tbody tr th {\n        vertical-align: top;\n    }\n\n    .dataframe thead th {\n        text-align: right;\n    }\n</style>\n<table border=\"1\" class=\"dataframe\">\n  <thead>\n    <tr style=\"text-align: right;\">\n      <th></th>\n      <th>route_id</th>\n      <th>route_desc</th>\n      <th>num_of_people</th>\n      <th>origin_amt</th>\n      <th>act_amt</th>\n      <th>subsidy_amt</th>\n      <th>avg_subsidy_amt_by_people</th>\n    </tr>\n  </thead>\n  <tbody>\n    <tr>\n      <th>0</th>\n      <td>0001</td>\n      <td>路線1</td>\n      <td>100</td>\n      <td>1000</td>\n      <td>600</td>\n      <td>400</td>\n      <td>4</td>\n    </tr>\n    <tr>\n      <th>1</th>\n      <td>0002</td>\n      <td>路線2</td>\n      <td>100</td>\n      <td>1000</td>\n      <td>600</td>\n      <td>400</td>\n      <td>4</td>\n    </tr>\n    <tr>\n      <th>2</th>\n      <td>0003</td>\n      <td>路線3</td>\n      <td>100</td>\n      <td>1000</td>\n      <td>600</td>\n      <td>400</td>\n      <td>4</td>\n    </tr>\n  </tbody>\n</table>\n</div>"
     },
     "metadata": {},
     "execution_count": 17
    }
   ],
   "source": [
    "# 表格資料title\n",
    "data = [\n",
    "    {\"route_id\": \"0001\", \"route_desc\": \"路線1\", \"num_of_people\": 100, \n",
    "     \"origin_amt\": 1000, \"act_amt\": 600, \"subsidy_amt\": 400, \"avg_subsidy_amt_by_people\": 4},\n",
    "    {\"route_id\": \"0002\", \"route_desc\": \"路線2\", \"num_of_people\": 100, \n",
    "     \"origin_amt\": 1000, \"act_amt\": 600, \"subsidy_amt\": 400, \"avg_subsidy_amt_by_people\": 4},\n",
    "    {\"route_id\": \"0003\", \"route_desc\": \"路線3\", \"num_of_people\": 100, \n",
    "     \"origin_amt\": 1000, \"act_amt\": 600, \"subsidy_amt\": 400, \"avg_subsidy_amt_by_people\": 4},\n",
    "]\n",
    "\n",
    "df = pd.DataFrame(data, columns=[\"route_id\", \"route_desc\", \"num_of_people\", \"origin_amt\", \n",
    "                                 \"act_amt\", \"subsidy_amt\", \"avg_subsidy_amt_by_people\"])\n",
    "df"
   ]
  },
  {
   "cell_type": "code",
   "execution_count": 18,
   "metadata": {},
   "outputs": [],
   "source": [
    "df.columns=[\"路線\\n編號\", \"路線\\n名稱\", \"使用轉乘優惠\\n人數\", \"原始票收金額\", \"實際交易金額\", \n",
    "            \"優惠補貼金額\", \"平均每人\\n優惠金額\"]"
   ]
  },
  {
   "source": [
    "# EXCEL輸出格式產生"
   ],
   "cell_type": "markdown",
   "metadata": {}
  },
  {
   "cell_type": "code",
   "execution_count": 196,
   "metadata": {},
   "outputs": [],
   "source": [
    "wb = Workbook()\n",
    "ws = wb.active"
   ]
  },
  {
   "cell_type": "code",
   "execution_count": 197,
   "metadata": {},
   "outputs": [],
   "source": [
    "# 設定print area\n",
    "# https://openpyxl.readthedocs.io/en/stable/print_settings.html\n",
    "ws.print_options.horizontalCentered = True\n",
    "# ws.print_options.verticalCentered = True\n",
    "ws.print_area = 'A1:G10'"
   ]
  },
  {
   "cell_type": "code",
   "execution_count": 198,
   "metadata": {},
   "outputs": [],
   "source": [
    "# 設定輸出表格字體參數\n",
    "table_title_ft = Font(name='標楷體', color='000000', size=14, bold=True)\n",
    "table_ft = Font(name='標楷體', color='000000', size=14)\n",
    "\n",
    "# 表格格線設定\n",
    "table_border = Border(left=Side(border_style='thin', color='000000'),\n",
    "                      right=Side(border_style='thin', color='000000'),\n",
    "                      top=Side(border_style='thin', color='000000'),\n",
    "                      bottom=Side(border_style='thin', color='000000'))"
   ]
  },
  {
   "cell_type": "code",
   "execution_count": 199,
   "metadata": {},
   "outputs": [],
   "source": [
    "ws.insert_rows(1)  # 在第一行插入一行\n",
    "ws.merge_cells('A1:G1')  # 欄位\n",
    "ws[\"A1\"] = '表1 ○年○月○○客運公司○○○公車轉乘第一段票免費補貼金額申請表'\n",
    "ws[\"A1\"].font = table_title_ft\n",
    "ws[\"A1\"].alignment = Alignment(horizontal='center')"
   ]
  },
  {
   "cell_type": "code",
   "execution_count": 200,
   "metadata": {},
   "outputs": [],
   "source": [
    "# DataFrame資料填入sheet row\n",
    "for row in dataframe_to_rows(df, index=False, header=True):\n",
    "    ws.append(row)"
   ]
  },
  {
   "cell_type": "code",
   "execution_count": 201,
   "metadata": {},
   "outputs": [],
   "source": [
    "# Table加入格線\n",
    "rows = ws[\"A3:G6\"]\n",
    "for row in rows:\n",
    "    for cell in row:\n",
    "        cell.border = table_border\n",
    "        cell.font = table_ft"
   ]
  },
  {
   "cell_type": "code",
   "execution_count": 202,
   "metadata": {},
   "outputs": [],
   "source": [
    "# 自動指定欄位寬度\n",
    "# https://stackoverflow.com/questions/13197574/openpyxl-adjust-column-width-size\n",
    "# from openpyxl.utils import get_column_letter\n",
    "\n",
    "# column_widths = []\n",
    "# for row in data:\n",
    "#     for i, cell in enumerate(row):\n",
    "#         if len(column_widths) > i:\n",
    "#             if len(cell) > column_widths[i]:\n",
    "#                 column_widths[i] = len(cell)\n",
    "#         else:\n",
    "#             column_widths += [len(cell)]\n",
    "\n",
    "# for i, column_width in enumerate(column_widths):\n",
    "#     ws.column_dimensions[get_column_letter(i+1)].width = column_width"
   ]
  },
  {
   "cell_type": "code",
   "execution_count": 203,
   "metadata": {},
   "outputs": [],
   "source": [
    "# 直接指定欄位寬度\n",
    "# https://stackoverflow.com/questions/53906532/is-it-possible-to-change-the-column-width-using-openpyxl/53906585\n",
    "ws.column_dimensions['A'].width = 10\n",
    "ws.column_dimensions['B'].width = 10\n",
    "ws.column_dimensions['C'].width = 23\n",
    "ws.column_dimensions['D'].width = 23\n",
    "ws.column_dimensions['E'].width = 23\n",
    "ws.column_dimensions['F'].width = 23\n",
    "ws.column_dimensions['G'].width = 23"
   ]
  },
  {
   "cell_type": "code",
   "execution_count": 204,
   "metadata": {},
   "outputs": [],
   "source": [
    "# Table欄位title style設定\n",
    "table_align_style = Alignment(wrapText=True, horizontal='center', vertical='center')\n",
    "\n",
    "for rows in ws['A3':'G3']:\n",
    "    for cell in rows:\n",
    "        cell.alignment = table_align_style"
   ]
  },
  {
   "cell_type": "code",
   "execution_count": 205,
   "metadata": {},
   "outputs": [],
   "source": [
    "# ws[\"A\":\"G\"].alignment = Alignment(wrapText=True, horizontal='center')\n",
    "# ws['A1'].alignment = Alignment(wrapText=True)\n",
    "# rows = sheet[\"A1:C3\"]\n",
    "# for row in rows:\n",
    "#     for cell in row:\n",
    "#         cell.border = border"
   ]
  },
  {
   "cell_type": "code",
   "execution_count": 206,
   "metadata": {},
   "outputs": [],
   "source": [
    "wb.save(\"report_01_output.xlsx\")"
   ]
  },
  {
   "cell_type": "code",
   "execution_count": null,
   "metadata": {},
   "outputs": [],
   "source": []
  }
 ]
}