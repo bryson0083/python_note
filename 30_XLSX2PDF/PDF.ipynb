{
 "metadata": {
  "language_info": {
   "codemirror_mode": {
    "name": "ipython",
    "version": 3
   },
   "file_extension": ".py",
   "mimetype": "text/x-python",
   "name": "python",
   "nbconvert_exporter": "python",
   "pygments_lexer": "ipython3",
   "version": "3.7.6-final"
  },
  "orig_nbformat": 2,
  "kernelspec": {
   "name": "python3",
   "display_name": "Python 3.7.6 64-bit (conda)",
   "metadata": {
    "interpreter": {
     "hash": "b3ba2566441a7c06988d0923437866b63cedc61552a5af99d1f4fb67d367b25f"
    }
   }
  }
 },
 "nbformat": 4,
 "nbformat_minor": 2,
 "cells": [
  {
   "cell_type": "code",
   "execution_count": 2,
   "metadata": {},
   "outputs": [],
   "source": [
    "import openpyxl\n",
    "from reportlab.pdfgen import canvas\n",
    "from reportlab.pdfbase import pdfmetrics\n",
    "from reportlab.pdfbase.pdfmetrics import stringWidth\n",
    "from reportlab.pdfbase.ttfonts import TTFont\n",
    "import os\n",
    "from PyPDF2 import PdfFileReader, PdfFileMerger"
   ]
  },
  {
   "cell_type": "code",
   "execution_count": 4,
   "metadata": {},
   "outputs": [],
   "source": [
    "pdfmetrics.registerFont(TTFont('Arial','Arial.ttf'))\n",
    "wb = openpyxl.load_workbook('Data.xlsx')\n",
    "sheet = wb.get_sheet_by_name(\"Sheet1\")\n",
    "\n",
    "#print(sheet.cell(2,2).value)\n",
    "\n",
    "page_width = 2156\n",
    "page_height = 3050\n",
    "start = 200\n",
    "start_2 = 700\n",
    "spread = 80\n",
    "categories = [\"Roll Number: \",\"Name: \",\"Gender: \",\"Age: \",\"Board: \",\"City: \",\"Email: \"]\n",
    "\n",
    "university = \"NED University Of Engineering And Technology\"\n",
    "\n",
    "def create_data():\n",
    "    for i in range (2,14):\n",
    "         std_id = sheet.cell(row=i,column=1).value\n",
    "         std_name = sheet.cell(row=i,column=2).value\n",
    "         std_gender = sheet.cell(row=i,column=3).value\n",
    "         std_age = sheet.cell(row=i,column=4).value\n",
    "         std_board = sheet.cell(row=i,column=5).value\n",
    "         std_city = sheet.cell(row=i,column=6).value\n",
    "         std_email = sheet.cell(row=i,column=8).value\n",
    "\n",
    "         data=[std_id,std_name,std_gender,std_age,std_board,std_city,std_email]\n",
    "\n",
    "         c=canvas.Canvas(str(std_name)+'.pdf')\n",
    "         c.setPageSize((page_width,page_height))\n",
    "         c.setFont('Arial',80)\n",
    "         text_width = stringWidth(university,'Arial',80)\n",
    "         c.drawString((page_width-text_width)/2,2900,university)\n",
    "\n",
    "         y=2500\n",
    "\n",
    "         for x in range(0,7):\n",
    "             c.setFont('Arial',40)\n",
    "             c.drawString(start,y,categories[x])\n",
    "             c.drawString(start_2,y,str(data[x])) \n",
    "             y-=spread\n",
    "\n",
    "\n",
    "         c.save()\n",
    "         \n",
    "def merge_data():\n",
    "    files_dir = 'D:\\\\'\n",
    "    pdf_files = [f for f in os.listdir(files_dir) if f.endswith('.pdf')]\n",
    "    merger = PdfFileMerger()\n",
    "    for filename in pdf_files:\n",
    "        merger.append(PdfFileReader(os.path.join(files_dir,filename,'rb')))\n",
    "    merger.write(os.path.join(files_dir,'merged_data.pdf'))\n",
    "         \n",
    "create_data()\n",
    "merge_data()"
   ]
  },
  {
   "cell_type": "code",
   "execution_count": 1,
   "metadata": {},
   "outputs": [],
   "source": [
    "# https://thequickblog.com/convert-an-excel-filexlsx-to-pdf-python/\n",
    "from win32com import client\n",
    "import win32api\n",
    "input_file = 'D:\\\\py_project\\\\python_note\\\\sample.xlsx'\n",
    "#give your file name with valid path \n",
    "output_file = 'D:\\\\py_project\\\\python_note\\\\sample_output.pdf'\n",
    "#give valid output file name and path\n",
    "app = client.DispatchEx(\"Excel.Application\")\n",
    "app.Interactive = False\n",
    "app.Visible = False\n",
    "\n",
    "Workbook = app.Workbooks.Open(input_file)\n",
    "ws = Workbook.Worksheets[0]\n",
    "ws.PageSetup.Orientation = 2  # 轉橫向\n",
    "ws.PageSetup.PaperSize = 8\n",
    "try:\n",
    "    Workbook.ActiveSheet.ExportAsFixedFormat(0, output_file)\n",
    "except Exception as e:\n",
    "    print(\"Failed to convert in PDF format.Please confirm environment meets all the requirements  and try again\")\n",
    "    print(str(e))\n",
    "finally:\n",
    "    Workbook.Close()\n",
    "    app.Exit()"
   ]
  },
  {
   "cell_type": "code",
   "execution_count": null,
   "metadata": {},
   "outputs": [],
   "source": []
  }
 ]
}