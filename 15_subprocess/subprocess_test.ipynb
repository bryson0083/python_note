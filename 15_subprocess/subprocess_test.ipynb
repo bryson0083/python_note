{
 "metadata": {
  "language_info": {
   "codemirror_mode": {
    "name": "ipython",
    "version": 3
   },
   "file_extension": ".py",
   "mimetype": "text/x-python",
   "name": "python",
   "nbconvert_exporter": "python",
   "pygments_lexer": "ipython3",
   "version": "3.8.5-final"
  },
  "orig_nbformat": 2,
  "kernelspec": {
   "name": "python3",
   "display_name": "Python 3.8.5 64-bit (conda)",
   "metadata": {
    "interpreter": {
     "hash": "ecf5722fdaf1897a315d257d89d94520bfcaa453217d5becf09b39e73618b0de"
    }
   }
  }
 },
 "nbformat": 4,
 "nbformat_minor": 2,
 "cells": [
  {
   "cell_type": "code",
   "execution_count": 1,
   "metadata": {},
   "outputs": [],
   "source": [
    "import time\n",
    "import datetime\n",
    "from dateutil.relativedelta import relativedelta\n",
    "import subprocess"
   ]
  },
  {
   "cell_type": "code",
   "execution_count": 18,
   "metadata": {},
   "outputs": [
    {
     "output_type": "stream",
     "name": "stdout",
     "text": [
      "aaaa\nNone\n"
     ]
    }
   ],
   "source": [
    "p = subprocess.Popen(\"dir\", shell=True)\n",
    "p.wait()\n",
    "if p.poll() == 0:\n",
    "    print(\"aaaa\")\n",
    "    print(p.communicate()[1])\n",
    "else:\n",
    "    print(\"失败\")"
   ]
  },
  {
   "cell_type": "code",
   "execution_count": 9,
   "metadata": {},
   "outputs": [
    {
     "output_type": "stream",
     "name": "stdout",
     "text": [
      "None\n"
     ]
    }
   ],
   "source": [
    "print(p.returncode)"
   ]
  },
  {
   "cell_type": "code",
   "execution_count": 6,
   "metadata": {},
   "outputs": [
    {
     "output_type": "stream",
     "name": "stdout",
     "text": [
      "p1: 202103\n",
      "\n",
      "p2: 202103\n",
      "\n",
      "p1: 202102\n",
      "\n",
      "p2: 202102\n",
      "\n",
      "p1: 202101\n",
      "\n",
      "p2: 202101\n",
      "\n"
     ]
    }
   ],
   "source": [
    "dt = datetime.datetime.now()\n",
    "for i in range(1, 4):\n",
    "    p1 = subprocess.Popen(\n",
    "            f\"echo {dt.strftime('%Y%m')}\",\n",
    "            shell=True,\n",
    "            encoding=\"utf-8\",\n",
    "            stdout=subprocess.PIPE\n",
    "         ).communicate()[0]\n",
    "    print(f\"p1: {p1}\")\n",
    "\n",
    "    p2 = subprocess.Popen(\n",
    "            f\"echo {dt.strftime('%Y%m')}\",\n",
    "            shell=True,\n",
    "            encoding=\"utf-8\",\n",
    "            stdout=subprocess.PIPE\n",
    "         ).communicate()[0]\n",
    "    print(f\"p2: {p2}\")\n",
    "\n",
    "    dt = dt + relativedelta(months=-1)"
   ]
  },
  {
   "cell_type": "code",
   "execution_count": null,
   "metadata": {},
   "outputs": [],
   "source": []
  }
 ]
}