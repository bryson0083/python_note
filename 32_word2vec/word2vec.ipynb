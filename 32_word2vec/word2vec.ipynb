{
 "metadata": {
  "language_info": {
   "codemirror_mode": {
    "name": "ipython",
    "version": 3
   },
   "file_extension": ".py",
   "mimetype": "text/x-python",
   "name": "python",
   "nbconvert_exporter": "python",
   "pygments_lexer": "ipython3",
   "version": "3.8.5-final"
  },
  "orig_nbformat": 2,
  "kernelspec": {
   "name": "python3",
   "display_name": "Python 3.8.5 64-bit (conda)",
   "metadata": {
    "interpreter": {
     "hash": "ecf5722fdaf1897a315d257d89d94520bfcaa453217d5becf09b39e73618b0de"
    }
   }
  }
 },
 "nbformat": 4,
 "nbformat_minor": 2,
 "cells": [
  {
   "cell_type": "code",
   "execution_count": 2,
   "metadata": {},
   "outputs": [
    {
     "output_type": "stream",
     "name": "stdout",
     "text": [
      "Collecting gensim\n  Using cached gensim-3.8.3-cp38-cp38-win_amd64.whl (24.2 MB)\nCollecting smart-open>=1.8.1\n  Using cached smart_open-4.2.0.tar.gz (119 kB)\nRequirement already satisfied: numpy>=1.11.3 in c:\\programdata\\miniconda3\\lib\\site-packages (from gensim) (1.20.1)\nCollecting scipy>=0.18.1\n  Using cached scipy-1.6.1-cp38-cp38-win_amd64.whl (32.7 MB)\nRequirement already satisfied: six>=1.5.0 in c:\\users\\bryson0083\\appdata\\roaming\\python\\python38\\site-packages (from gensim) (1.14.0)\nCollecting Cython==0.29.14\n  Using cached Cython-0.29.14-cp38-cp38-win_amd64.whl (1.7 MB)\nBuilding wheels for collected packages: smart-open\n  Building wheel for smart-open (setup.py): started\n  Building wheel for smart-open (setup.py): finished with status 'done'\n  Created wheel for smart-open: filename=smart_open-4.2.0-py3-none-any.whl size=109637 sha256=4e19f131f83d189a5ff37bc5ce1b6e161c62e7c36838fd1efe3bbc597ea9e67e\n  Stored in directory: c:\\users\\bryson0083\\appdata\\local\\pip\\cache\\wheels\\24\\f6\\ea\\70a0761bdfaeacff66662751fe71920e25c4c43d97098a3886\nSuccessfully built smart-open\nInstalling collected packages: smart-open, scipy, Cython, gensim\nSuccessfully installed Cython-0.29.14 gensim-3.8.3 scipy-1.6.1 smart-open-4.2.0\n"
     ]
    }
   ],
   "source": [
    "# !pip install gensim"
   ]
  },
  {
   "cell_type": "code",
   "execution_count": 3,
   "metadata": {},
   "outputs": [],
   "source": [
    "import pandas as pd\n",
    "from gensim.models.word2vec import Word2Vec"
   ]
  },
  {
   "cell_type": "code",
   "execution_count": 4,
   "metadata": {},
   "outputs": [],
   "source": [
    "df = pd.read_csv(\"merchant_names(smp).csv\")"
   ]
  },
  {
   "cell_type": "code",
   "execution_count": 5,
   "metadata": {},
   "outputs": [
    {
     "output_type": "execute_result",
     "data": {
      "text/plain": [
       "       store_name\n",
       "0        7-11便利商店\n",
       "1            統一超商\n",
       "2  中國信託商業銀行股份有限公司\n",
       "3  中國信託商業銀行股份有限公司\n",
       "4        地球村左營 學費"
      ],
      "text/html": "<div>\n<style scoped>\n    .dataframe tbody tr th:only-of-type {\n        vertical-align: middle;\n    }\n\n    .dataframe tbody tr th {\n        vertical-align: top;\n    }\n\n    .dataframe thead th {\n        text-align: right;\n    }\n</style>\n<table border=\"1\" class=\"dataframe\">\n  <thead>\n    <tr style=\"text-align: right;\">\n      <th></th>\n      <th>store_name</th>\n    </tr>\n  </thead>\n  <tbody>\n    <tr>\n      <th>0</th>\n      <td>7-11便利商店</td>\n    </tr>\n    <tr>\n      <th>1</th>\n      <td>統一超商</td>\n    </tr>\n    <tr>\n      <th>2</th>\n      <td>中國信託商業銀行股份有限公司</td>\n    </tr>\n    <tr>\n      <th>3</th>\n      <td>中國信託商業銀行股份有限公司</td>\n    </tr>\n    <tr>\n      <th>4</th>\n      <td>地球村左營 學費</td>\n    </tr>\n  </tbody>\n</table>\n</div>"
     },
     "metadata": {},
     "execution_count": 5
    }
   ],
   "source": [
    "df.head()"
   ]
  },
  {
   "cell_type": "code",
   "execution_count": 7,
   "metadata": {},
   "outputs": [
    {
     "output_type": "stream",
     "name": "stdout",
     "text": [
      "Collecting fuzzywuzzy\n",
      "  Downloading fuzzywuzzy-0.18.0-py2.py3-none-any.whl (18 kB)\n",
      "Installing collected packages: fuzzywuzzy\n",
      "Successfully installed fuzzywuzzy-0.18.0\n",
      "Collecting python-Levenshtein\n",
      "  Downloading python-Levenshtein-0.12.2.tar.gz (50 kB)\n",
      "Requirement already satisfied: setuptools in c:\\programdata\\miniconda3\\lib\\site-packages (from python-Levenshtein) (50.3.1.post20201107)\n",
      "Building wheels for collected packages: python-Levenshtein\n",
      "  Building wheel for python-Levenshtein (setup.py): started\n",
      "  Building wheel for python-Levenshtein (setup.py): finished with status 'done'\n",
      "  Created wheel for python-Levenshtein: filename=python_Levenshtein-0.12.2-cp38-cp38-win_amd64.whl size=83887 sha256=98783ce8e86494e6c3957042b5ab326af73bee06490ae398d2a704103c7fb5eb\n",
      "  Stored in directory: c:\\users\\bryson0083\\appdata\\local\\pip\\cache\\wheels\\d7\\0c\\76\\042b46eb0df65c3ccd0338f791210c55ab79d209bcc269e2c7\n",
      "Successfully built python-Levenshtein\n",
      "Installing collected packages: python-Levenshtein\n",
      "Successfully installed python-Levenshtein-0.12.2\n"
     ]
    }
   ],
   "source": [
    "# !pip install fuzzywuzzy\n",
    "# !pip install python-Levenshtein"
   ]
  },
  {
   "cell_type": "code",
   "execution_count": 8,
   "metadata": {},
   "outputs": [],
   "source": [
    "from fuzzywuzzy import fuzz\n",
    "from fuzzywuzzy import process"
   ]
  },
  {
   "cell_type": "code",
   "execution_count": 9,
   "metadata": {},
   "outputs": [
    {
     "output_type": "execute_result",
     "data": {
      "text/plain": [
       "94"
      ]
     },
     "metadata": {},
     "execution_count": 9
    }
   ],
   "source": [
    "fuzz.ratio(\"Catherine M Gitau\",\"Catherine Gitau\")"
   ]
  },
  {
   "cell_type": "code",
   "execution_count": 14,
   "metadata": {},
   "outputs": [
    {
     "output_type": "execute_result",
     "data": {
      "text/plain": [
       "25"
      ]
     },
     "metadata": {},
     "execution_count": 14
    }
   ],
   "source": [
    "fuzz.partial_ratio(\"7-11便利商店\",\"統一超商\")"
   ]
  },
  {
   "cell_type": "code",
   "execution_count": null,
   "metadata": {},
   "outputs": [],
   "source": []
  }
 ]
}